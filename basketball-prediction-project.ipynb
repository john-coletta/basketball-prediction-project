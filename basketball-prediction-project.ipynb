{
 "cells": [
  {
   "cell_type": "code",
   "execution_count": 1,
   "metadata": {},
   "outputs": [
    {
     "name": "stderr",
     "output_type": "stream",
     "text": [
      "C:\\Users\\John\\Anaconda\\envs\\py3\\lib\\site-packages\\statsmodels\\compat\\pandas.py:56: FutureWarning: The pandas.core.datetools module is deprecated and will be removed in a future version. Please use the pandas.tseries module instead.\n",
      "  from pandas.core import datetools\n",
      "C:\\Users\\John\\Anaconda\\envs\\py3\\lib\\site-packages\\ggplot\\utils.py:81: FutureWarning: pandas.tslib is deprecated and will be removed in a future version.\n",
      "You can access Timestamp as pandas.Timestamp\n",
      "  pd.tslib.Timestamp,\n",
      "C:\\Users\\John\\Anaconda\\envs\\py3\\lib\\site-packages\\ggplot\\stats\\smoothers.py:4: FutureWarning: The pandas.lib module is deprecated and will be removed in a future version. These are private functions and can be accessed from pandas._libs.lib instead\n",
      "  from pandas.lib import Timestamp\n"
     ]
    }
   ],
   "source": [
    "# Import all the necessary libraries\n",
    "import pandas as pd\n",
    "import numpy as np\n",
    "import matplotlib.pyplot as plt\n",
    "import scipy as sci\n",
    "import statsmodels.api as sm\n",
    "from ggplot import *\n",
    "import os\n",
    "from sklearn.model_selection import train_test_split, KFold\n",
    "\n",
    "% matplotlib inline"
   ]
  },
  {
   "cell_type": "code",
   "execution_count": 2,
   "metadata": {
    "collapsed": true
   },
   "outputs": [],
   "source": [
    "#Set up the NBA teams and the years\n",
    "years = ['16_17', '17_18']\n",
    "\n",
    "nba_teams = ['atl','bos','brk','cho','chi','cle','dal','den','det','gsw',\n",
    "             'hou','ind','lac','lal','mem','mia','mil','min','nop','nyk',\n",
    "             'okc','orl','phi','pho','por','sac','sas','tor','uta','was']"
   ]
  },
  {
   "cell_type": "code",
   "execution_count": 3,
   "metadata": {},
   "outputs": [],
   "source": [
    "# All data gathered from basketball-reference.com\n",
    "df_dict = {}\n",
    "for year in years:\n",
    "    for team in nba_teams:\n",
    "        # This loop constructs a dataframe and then adds it to a dictionary\n",
    "        # The key is the team and year and the value is the dataframe\n",
    "        df_dict[team+year] = pd.read_csv('team_data/' + team+year + '.csv', header = 1)\n",
    "        df_dict[team+year].rename(index=str, columns={'Unnamed: 3': 'H/A', \n",
    "                                             'Tm': 'PS', 'Opp.1': 'PA'},\n",
    "                            inplace = True)\n",
    "        # Clean the data by making it consistent\n",
    "        col_dict = {}\n",
    "        for col in list(df_dict[team+year]):\n",
    "            col_dict[col] = col.replace('.1', '_Allowed')\n",
    "        df_dict[team+year].rename(columns=col_dict, inplace = True)\n",
    "        df_dict[team+year]['Tm'] = team\n",
    "        df_dict[team+year]['H/A'].fillna('H', inplace = True)\n",
    "        df_dict[team+year].replace('@', 'A', inplace = True)\n",
    "        df_dict[team+year].Date = pd.to_datetime(df_dict[team+year].Date, \n",
    "                                            infer_datetime_format=True)\n",
    "        df_dict[team+year]['H/A'] = df_dict[team+year]['H/A'].astype('category')\n",
    "        df_dict[team+year]['W/L'] = df_dict[team+year]['W/L'].astype('category')\n",
    "        df_dict[team+year].drop('Unnamed: 24', axis = 1, inplace = True)\n",
    "        df_dict[team+year]['W/L.bool'] = np.where(df_dict[team+year]['W/L']=='W', 1, 0)\n",
    "        df_dict[team+year]['Opp'] = df_dict[team+year]['Opp'].str.lower()\n",
    "        # Effective field goal percentage is (FG + (0.5*3P))/FGA\n",
    "        df_dict[team+year]['eFG%'] = (df_dict[team+year]['FG'] + (0.5 * df_dict[team+year]['3P'])) / df_dict[team+year]['FGA']\n",
    "        # Turnover percentage is (TOV/(FGA + (0.44 * FTA) + TOV))\n",
    "        df_dict[team+year]['TOV%'] = df_dict[team+year]['TOV'] / (df_dict[team+year]['FGA'] + (0.44 * df_dict[team+year]['FTA']) + df_dict[team+year]['TOV'])\n",
    "        # Offensive rebounding percentage is (ORB/(ORB + (TRB_Allowed - ORB_Allowed))) i.e. opponents defensive rebounds\n",
    "        df_dict[team+year]['ORB%'] = df_dict[team+year]['ORB'] / (df_dict[team+year]['ORB'] + (df_dict[team+year]['TRB_Allowed'] - df_dict[team+year]['ORB_Allowed']))\n",
    "        # Defensive rebounding percentage is ((TRB - ORB)/(ORB_Allowed) + (TRB - ORB))\n",
    "        df_dict[team+year]['DRB%'] = (df_dict[team+year]['TRB'] - df_dict[team+year]['ORB']) / (df_dict[team+year]['ORB_Allowed'] + (df_dict[team+year]['TRB'] - df_dict[team+year]['ORB']))\n",
    "        df_dict[team+year]['eFG%_Allowed'] = (df_dict[team+year]['FG_Allowed'] + (0.5 * df_dict[team+year]['3P_Allowed'])) / df_dict[team+year]['FGA_Allowed']\n",
    "        df_dict[team+year]['TOV%_Allowed'] = df_dict[team+year]['TOV_Allowed'] / (df_dict[team+year]['FGA_Allowed'] + (0.44 * df_dict[team+year]['FTA_Allowed']) + df_dict[team+year]['TOV_Allowed'])\n",
    "        df_dict[team+year]['ORB%_Allowed'] = df_dict[team+year]['ORB_Allowed'] / (df_dict[team+year]['ORB_Allowed'] + (df_dict[team+year]['TRB'] - df_dict[team+year]['ORB']))\n",
    "        df_dict[team+year]['DRB%_Allowed'] = (df_dict[team+year]['TRB_Allowed'] - df_dict[team+year]['ORB_Allowed']) / (df_dict[team+year]['ORB'] + (df_dict[team+year]['TRB_Allowed'] - df_dict[team+year]['ORB_Allowed']))\n",
    "        # Steal and block percentage is ((STL + BLK)/(FGA + (0.44 * FTA) + TOV))\n",
    "        df_dict[team+year]['STLBLK%'] = (df_dict[team+year]['STL'] + df_dict[team+year]['BLK'])/(df_dict[team+year]['FGA_Allowed'] + (0.44 * df_dict[team+year]['FTA_Allowed']) + df_dict[team+year]['TOV_Allowed'])\n",
    "        # Possession estimates are (FGA + (0.44 * FTA) + TOV)\n",
    "        df_dict[team+year]['EstPos'] = (df_dict[team+year]['FGA'] + (0.44 * df_dict[team+year]['FTA']) + df_dict[team+year]['TOV'])\n",
    "        df_dict[team+year]['EstPos_Allowed'] = (df_dict[team+year]['FGA_Allowed'] + (0.44 * df_dict[team+year]['FTA_Allowed']) + df_dict[team+year]['TOV_Allowed'])\n",
    "        df_dict[team+year]['PperPos'] = df_dict[team+year]['PS']/df_dict[team+year]['EstPos']\n",
    "        df_dict[team+year]['PperPos_Allowed'] = df_dict[team+year]['PA']/df_dict[team+year]['EstPos_Allowed']"
   ]
  },
  {
   "cell_type": "code",
   "execution_count": 4,
   "metadata": {
    "collapsed": true,
    "scrolled": true
   },
   "outputs": [],
   "source": [
    "for year in years:\n",
    "    for team in nba_teams:\n",
    "        # Offensive rating is ((0.45 * eFG%) - (0.25 * TOV%) + (0.15 * ORB%) + (0.15 * ((FTA/EstPos) + FT%))\n",
    "        df_dict[team+year]['ORt'] = ((0.45 * df_dict[team+year]['eFG%']) - (0.25 * df_dict[team+year]['TOV%']) + (0.15 * df_dict[team+year]['ORB%']) + (0.15 * ((df_dict[team+year]['FTA']/df_dict[team+year]['EstPos']) + df_dict[team+year]['FT%']))) * 100.0\n",
    "        # Defensive rating is ((0.4 * eFG%_Allowed) - (0.2 * STLBLK%) + (0.2 * ORB%_Allowed) + (0.2 * (FTA_Allowed/EstPos_Allowed)))\n",
    "        df_dict[team+year]['DRt'] = ((0.4 * df_dict[team+year]['eFG%_Allowed']) - (0.2 * df_dict[team+year]['STLBLK%']) + (0.2 * df_dict[team+year]['ORB%_Allowed']) + (0.2 * (df_dict[team+year]['FTA_Allowed'])/(df_dict[team+year]['EstPos_Allowed']))) * 100.0"
   ]
  },
  {
   "cell_type": "code",
   "execution_count": 5,
   "metadata": {
    "collapsed": true
   },
   "outputs": [],
   "source": [
    "for year in years:\n",
    "    for team in nba_teams:\n",
    "        for stat in ['ORt','DRt']:\n",
    "            # Created the expanding average used in the model\n",
    "            df_dict[team+year][stat + '_RAvg'] = df_dict[team+year][stat].expanding(1).mean().shift(1)"
   ]
  },
  {
   "cell_type": "code",
   "execution_count": 6,
   "metadata": {
    "collapsed": true
   },
   "outputs": [],
   "source": [
    "# The loop below merges the opponent's stats for each game\n",
    "# It slowly builds a new dataframe for each team\n",
    "for year in years:\n",
    "    for team1 in nba_teams:\n",
    "        df_dict[team1+year +'_full'] = pd.DataFrame()\n",
    "        for team2 in nba_teams:\n",
    "            df_dict[team1+year + '_full'] = pd.concat([df_dict[team1+year + '_full'],df_dict[team1+year].merge(df_dict[team2+year][['Date','Tm','Opp',\n",
    "                                                                                                    'ORt_RAvg','DRt_RAvg']], \n",
    "                                                                                        how='inner', left_on=['Date','Tm','Opp'],\n",
    "                                                                                        right_on=['Date','Opp','Tm'], \n",
    "                                                                                        suffixes=('','_Opp'))])\n",
    "        df_dict[team1+year + '_full'].sort_values(by=['G'], inplace=True)\n",
    "        df_dict[team1+year + '_full'].dropna(how='any', inplace=True)"
   ]
  },
  {
   "cell_type": "code",
   "execution_count": 7,
   "metadata": {
    "collapsed": true
   },
   "outputs": [],
   "source": [
    "# Create a reduced dataframe\n",
    "for year in years:\n",
    "    for team in nba_teams:\n",
    "        df_dict[team+year + '_red'] = df_dict[team+year + '_full'][['G','Date','H/A','Tm','Opp','PS','PA','W/L.bool','ORt_RAvg','DRt_RAvg','ORt_RAvg_Opp',\n",
    "                                                     'DRt_RAvg_Opp']]"
   ]
  },
  {
   "cell_type": "code",
   "execution_count": 8,
   "metadata": {
    "collapsed": true
   },
   "outputs": [],
   "source": [
    "#Create a season-long dataframe\n",
    "df_17_18 = pd.DataFrame()\n",
    "df_16_17 = pd.DataFrame()\n",
    "for team in nba_teams:\n",
    "    df_17_18 = df_17_18.append(df_dict[team +'17_18' + '_red'], ignore_index = True)\n",
    "\n",
    "for team in nba_teams:\n",
    "    df_16_17 = df_16_17.append(df_dict[team +'16_17' + '_red'], ignore_index = True)"
   ]
  },
  {
   "cell_type": "code",
   "execution_count": 9,
   "metadata": {
    "collapsed": true
   },
   "outputs": [],
   "source": [
    "# Only want home games\n",
    "df_17_18 = df_17_18[df_17_18['H/A'] == 'H']\n",
    "df_16_17 = df_16_17[df_16_17['H/A'] == 'H']"
   ]
  },
  {
   "cell_type": "code",
   "execution_count": 10,
   "metadata": {},
   "outputs": [
    {
     "data": {
      "text/html": [
       "<div>\n",
       "<style>\n",
       "    .dataframe thead tr:only-child th {\n",
       "        text-align: right;\n",
       "    }\n",
       "\n",
       "    .dataframe thead th {\n",
       "        text-align: left;\n",
       "    }\n",
       "\n",
       "    .dataframe tbody tr th {\n",
       "        vertical-align: top;\n",
       "    }\n",
       "</style>\n",
       "<table border=\"1\" class=\"dataframe\">\n",
       "  <thead>\n",
       "    <tr style=\"text-align: right;\">\n",
       "      <th></th>\n",
       "      <th>G</th>\n",
       "      <th>Date</th>\n",
       "      <th>H/A</th>\n",
       "      <th>Tm</th>\n",
       "      <th>Opp</th>\n",
       "      <th>PS</th>\n",
       "      <th>PA</th>\n",
       "      <th>W/L.bool</th>\n",
       "      <th>ORt_RAvg</th>\n",
       "      <th>DRt_RAvg</th>\n",
       "      <th>ORt_RAvg_Opp</th>\n",
       "      <th>DRt_RAvg_Opp</th>\n",
       "    </tr>\n",
       "  </thead>\n",
       "  <tbody>\n",
       "    <tr>\n",
       "      <th>4</th>\n",
       "      <td>6</td>\n",
       "      <td>2017-10-27</td>\n",
       "      <td>H</td>\n",
       "      <td>atl</td>\n",
       "      <td>den</td>\n",
       "      <td>100</td>\n",
       "      <td>105</td>\n",
       "      <td>0</td>\n",
       "      <td>35.947658</td>\n",
       "      <td>27.739018</td>\n",
       "      <td>35.973336</td>\n",
       "      <td>26.873092</td>\n",
       "    </tr>\n",
       "    <tr>\n",
       "      <th>5</th>\n",
       "      <td>7</td>\n",
       "      <td>2017-10-29</td>\n",
       "      <td>H</td>\n",
       "      <td>atl</td>\n",
       "      <td>mil</td>\n",
       "      <td>106</td>\n",
       "      <td>117</td>\n",
       "      <td>0</td>\n",
       "      <td>36.573891</td>\n",
       "      <td>27.548765</td>\n",
       "      <td>37.348237</td>\n",
       "      <td>27.797285</td>\n",
       "    </tr>\n",
       "    <tr>\n",
       "      <th>7</th>\n",
       "      <td>9</td>\n",
       "      <td>2017-11-03</td>\n",
       "      <td>H</td>\n",
       "      <td>atl</td>\n",
       "      <td>hou</td>\n",
       "      <td>104</td>\n",
       "      <td>119</td>\n",
       "      <td>0</td>\n",
       "      <td>36.592765</td>\n",
       "      <td>27.968559</td>\n",
       "      <td>38.305475</td>\n",
       "      <td>25.615328</td>\n",
       "    </tr>\n",
       "    <tr>\n",
       "      <th>9</th>\n",
       "      <td>11</td>\n",
       "      <td>2017-11-06</td>\n",
       "      <td>H</td>\n",
       "      <td>atl</td>\n",
       "      <td>bos</td>\n",
       "      <td>107</td>\n",
       "      <td>110</td>\n",
       "      <td>0</td>\n",
       "      <td>36.963003</td>\n",
       "      <td>27.949629</td>\n",
       "      <td>38.148340</td>\n",
       "      <td>23.708537</td>\n",
       "    </tr>\n",
       "    <tr>\n",
       "      <th>13</th>\n",
       "      <td>15</td>\n",
       "      <td>2017-11-15</td>\n",
       "      <td>H</td>\n",
       "      <td>atl</td>\n",
       "      <td>sac</td>\n",
       "      <td>126</td>\n",
       "      <td>80</td>\n",
       "      <td>1</td>\n",
       "      <td>37.038637</td>\n",
       "      <td>28.555603</td>\n",
       "      <td>34.894560</td>\n",
       "      <td>28.566318</td>\n",
       "    </tr>\n",
       "  </tbody>\n",
       "</table>\n",
       "</div>"
      ],
      "text/plain": [
       "     G       Date H/A   Tm  Opp   PS   PA  W/L.bool   ORt_RAvg   DRt_RAvg  \\\n",
       "4    6 2017-10-27   H  atl  den  100  105         0  35.947658  27.739018   \n",
       "5    7 2017-10-29   H  atl  mil  106  117         0  36.573891  27.548765   \n",
       "7    9 2017-11-03   H  atl  hou  104  119         0  36.592765  27.968559   \n",
       "9   11 2017-11-06   H  atl  bos  107  110         0  36.963003  27.949629   \n",
       "13  15 2017-11-15   H  atl  sac  126   80         1  37.038637  28.555603   \n",
       "\n",
       "    ORt_RAvg_Opp  DRt_RAvg_Opp  \n",
       "4      35.973336     26.873092  \n",
       "5      37.348237     27.797285  \n",
       "7      38.305475     25.615328  \n",
       "9      38.148340     23.708537  \n",
       "13     34.894560     28.566318  "
      ]
     },
     "execution_count": 10,
     "metadata": {},
     "output_type": "execute_result"
    }
   ],
   "source": [
    "df_17_18.head()"
   ]
  },
  {
   "cell_type": "code",
   "execution_count": 11,
   "metadata": {},
   "outputs": [
    {
     "data": {
      "text/html": [
       "<div>\n",
       "<style>\n",
       "    .dataframe thead tr:only-child th {\n",
       "        text-align: right;\n",
       "    }\n",
       "\n",
       "    .dataframe thead th {\n",
       "        text-align: left;\n",
       "    }\n",
       "\n",
       "    .dataframe tbody tr th {\n",
       "        vertical-align: top;\n",
       "    }\n",
       "</style>\n",
       "<table border=\"1\" class=\"dataframe\">\n",
       "  <thead>\n",
       "    <tr style=\"text-align: right;\">\n",
       "      <th></th>\n",
       "      <th>G</th>\n",
       "      <th>Date</th>\n",
       "      <th>H/A</th>\n",
       "      <th>Tm</th>\n",
       "      <th>Opp</th>\n",
       "      <th>PS</th>\n",
       "      <th>PA</th>\n",
       "      <th>W/L.bool</th>\n",
       "      <th>ORt_RAvg</th>\n",
       "      <th>DRt_RAvg</th>\n",
       "      <th>ORt_RAvg_Opp</th>\n",
       "      <th>DRt_RAvg_Opp</th>\n",
       "    </tr>\n",
       "  </thead>\n",
       "  <tbody>\n",
       "    <tr>\n",
       "      <th>1</th>\n",
       "      <td>3</td>\n",
       "      <td>2016-10-31</td>\n",
       "      <td>H</td>\n",
       "      <td>atl</td>\n",
       "      <td>sac</td>\n",
       "      <td>106</td>\n",
       "      <td>95</td>\n",
       "      <td>1</td>\n",
       "      <td>38.005619</td>\n",
       "      <td>19.616001</td>\n",
       "      <td>38.575424</td>\n",
       "      <td>29.430573</td>\n",
       "    </tr>\n",
       "    <tr>\n",
       "      <th>2</th>\n",
       "      <td>4</td>\n",
       "      <td>2016-11-02</td>\n",
       "      <td>H</td>\n",
       "      <td>atl</td>\n",
       "      <td>lal</td>\n",
       "      <td>116</td>\n",
       "      <td>123</td>\n",
       "      <td>0</td>\n",
       "      <td>38.591027</td>\n",
       "      <td>21.746482</td>\n",
       "      <td>37.009258</td>\n",
       "      <td>28.489916</td>\n",
       "    </tr>\n",
       "    <tr>\n",
       "      <th>4</th>\n",
       "      <td>6</td>\n",
       "      <td>2016-11-05</td>\n",
       "      <td>H</td>\n",
       "      <td>atl</td>\n",
       "      <td>hou</td>\n",
       "      <td>112</td>\n",
       "      <td>97</td>\n",
       "      <td>1</td>\n",
       "      <td>37.641625</td>\n",
       "      <td>24.154762</td>\n",
       "      <td>39.490646</td>\n",
       "      <td>28.123758</td>\n",
       "    </tr>\n",
       "    <tr>\n",
       "      <th>6</th>\n",
       "      <td>8</td>\n",
       "      <td>2016-11-09</td>\n",
       "      <td>H</td>\n",
       "      <td>atl</td>\n",
       "      <td>chi</td>\n",
       "      <td>115</td>\n",
       "      <td>107</td>\n",
       "      <td>1</td>\n",
       "      <td>38.027844</td>\n",
       "      <td>24.356713</td>\n",
       "      <td>40.252515</td>\n",
       "      <td>25.397964</td>\n",
       "    </tr>\n",
       "    <tr>\n",
       "      <th>7</th>\n",
       "      <td>9</td>\n",
       "      <td>2016-11-12</td>\n",
       "      <td>H</td>\n",
       "      <td>atl</td>\n",
       "      <td>phi</td>\n",
       "      <td>117</td>\n",
       "      <td>96</td>\n",
       "      <td>1</td>\n",
       "      <td>38.501483</td>\n",
       "      <td>24.409702</td>\n",
       "      <td>33.878340</td>\n",
       "      <td>26.286892</td>\n",
       "    </tr>\n",
       "  </tbody>\n",
       "</table>\n",
       "</div>"
      ],
      "text/plain": [
       "   G       Date H/A   Tm  Opp   PS   PA  W/L.bool   ORt_RAvg   DRt_RAvg  \\\n",
       "1  3 2016-10-31   H  atl  sac  106   95         1  38.005619  19.616001   \n",
       "2  4 2016-11-02   H  atl  lal  116  123         0  38.591027  21.746482   \n",
       "4  6 2016-11-05   H  atl  hou  112   97         1  37.641625  24.154762   \n",
       "6  8 2016-11-09   H  atl  chi  115  107         1  38.027844  24.356713   \n",
       "7  9 2016-11-12   H  atl  phi  117   96         1  38.501483  24.409702   \n",
       "\n",
       "   ORt_RAvg_Opp  DRt_RAvg_Opp  \n",
       "1     38.575424     29.430573  \n",
       "2     37.009258     28.489916  \n",
       "4     39.490646     28.123758  \n",
       "6     40.252515     25.397964  \n",
       "7     33.878340     26.286892  "
      ]
     },
     "execution_count": 11,
     "metadata": {},
     "output_type": "execute_result"
    }
   ],
   "source": [
    "df_16_17.head()"
   ]
  },
  {
   "cell_type": "code",
   "execution_count": 12,
   "metadata": {
    "collapsed": true
   },
   "outputs": [],
   "source": [
    "full_df = pd.concat([df_16_17, df_17_18])"
   ]
  },
  {
   "cell_type": "code",
   "execution_count": 13,
   "metadata": {},
   "outputs": [
    {
     "name": "stdout",
     "output_type": "stream",
     "text": [
      "<class 'pandas.core.frame.DataFrame'>\n",
      "Int64Index: 2043 entries, 1 to 1656\n",
      "Data columns (total 12 columns):\n",
      "G               2043 non-null int64\n",
      "Date            2043 non-null datetime64[ns]\n",
      "H/A             2043 non-null category\n",
      "Tm              2043 non-null object\n",
      "Opp             2043 non-null object\n",
      "PS              2043 non-null int64\n",
      "PA              2043 non-null int64\n",
      "W/L.bool        2043 non-null int32\n",
      "ORt_RAvg        2043 non-null float64\n",
      "DRt_RAvg        2043 non-null float64\n",
      "ORt_RAvg_Opp    2043 non-null float64\n",
      "DRt_RAvg_Opp    2043 non-null float64\n",
      "dtypes: category(1), datetime64[ns](1), float64(4), int32(1), int64(3), object(2)\n",
      "memory usage: 185.6+ KB\n"
     ]
    }
   ],
   "source": [
    "full_df.info()"
   ]
  },
  {
   "cell_type": "code",
   "execution_count": 14,
   "metadata": {
    "collapsed": true
   },
   "outputs": [],
   "source": [
    "full_df.sort_values(by=['Date'], inplace = True)\n",
    "full_df.reset_index(inplace = True)\n",
    "full_df.drop('index', axis = 1, inplace = True)"
   ]
  },
  {
   "cell_type": "code",
   "execution_count": 15,
   "metadata": {},
   "outputs": [
    {
     "data": {
      "text/html": [
       "<div>\n",
       "<style>\n",
       "    .dataframe thead tr:only-child th {\n",
       "        text-align: right;\n",
       "    }\n",
       "\n",
       "    .dataframe thead th {\n",
       "        text-align: left;\n",
       "    }\n",
       "\n",
       "    .dataframe tbody tr th {\n",
       "        vertical-align: top;\n",
       "    }\n",
       "</style>\n",
       "<table border=\"1\" class=\"dataframe\">\n",
       "  <thead>\n",
       "    <tr style=\"text-align: right;\">\n",
       "      <th></th>\n",
       "      <th>G</th>\n",
       "      <th>Date</th>\n",
       "      <th>H/A</th>\n",
       "      <th>Tm</th>\n",
       "      <th>Opp</th>\n",
       "      <th>PS</th>\n",
       "      <th>PA</th>\n",
       "      <th>W/L.bool</th>\n",
       "      <th>ORt_RAvg</th>\n",
       "      <th>DRt_RAvg</th>\n",
       "      <th>ORt_RAvg_Opp</th>\n",
       "      <th>DRt_RAvg_Opp</th>\n",
       "    </tr>\n",
       "  </thead>\n",
       "  <tbody>\n",
       "    <tr>\n",
       "      <th>0</th>\n",
       "      <td>2</td>\n",
       "      <td>2016-10-27</td>\n",
       "      <td>H</td>\n",
       "      <td>sac</td>\n",
       "      <td>sas</td>\n",
       "      <td>94</td>\n",
       "      <td>102</td>\n",
       "      <td>0</td>\n",
       "      <td>39.805115</td>\n",
       "      <td>27.799446</td>\n",
       "      <td>44.705107</td>\n",
       "      <td>24.647354</td>\n",
       "    </tr>\n",
       "    <tr>\n",
       "      <th>1</th>\n",
       "      <td>2</td>\n",
       "      <td>2016-10-28</td>\n",
       "      <td>H</td>\n",
       "      <td>uta</td>\n",
       "      <td>lal</td>\n",
       "      <td>96</td>\n",
       "      <td>89</td>\n",
       "      <td>1</td>\n",
       "      <td>41.367910</td>\n",
       "      <td>29.254944</td>\n",
       "      <td>41.785669</td>\n",
       "      <td>29.680100</td>\n",
       "    </tr>\n",
       "    <tr>\n",
       "      <th>2</th>\n",
       "      <td>2</td>\n",
       "      <td>2016-10-28</td>\n",
       "      <td>H</td>\n",
       "      <td>tor</td>\n",
       "      <td>cle</td>\n",
       "      <td>91</td>\n",
       "      <td>94</td>\n",
       "      <td>0</td>\n",
       "      <td>40.681315</td>\n",
       "      <td>23.799275</td>\n",
       "      <td>39.275644</td>\n",
       "      <td>22.214510</td>\n",
       "    </tr>\n",
       "    <tr>\n",
       "      <th>3</th>\n",
       "      <td>2</td>\n",
       "      <td>2016-10-28</td>\n",
       "      <td>H</td>\n",
       "      <td>brk</td>\n",
       "      <td>ind</td>\n",
       "      <td>103</td>\n",
       "      <td>94</td>\n",
       "      <td>1</td>\n",
       "      <td>39.106817</td>\n",
       "      <td>31.106332</td>\n",
       "      <td>40.076865</td>\n",
       "      <td>24.630514</td>\n",
       "    </tr>\n",
       "    <tr>\n",
       "      <th>4</th>\n",
       "      <td>2</td>\n",
       "      <td>2016-10-28</td>\n",
       "      <td>H</td>\n",
       "      <td>det</td>\n",
       "      <td>orl</td>\n",
       "      <td>108</td>\n",
       "      <td>82</td>\n",
       "      <td>1</td>\n",
       "      <td>34.129964</td>\n",
       "      <td>29.680929</td>\n",
       "      <td>36.200584</td>\n",
       "      <td>28.390347</td>\n",
       "    </tr>\n",
       "  </tbody>\n",
       "</table>\n",
       "</div>"
      ],
      "text/plain": [
       "   G       Date H/A   Tm  Opp   PS   PA  W/L.bool   ORt_RAvg   DRt_RAvg  \\\n",
       "0  2 2016-10-27   H  sac  sas   94  102         0  39.805115  27.799446   \n",
       "1  2 2016-10-28   H  uta  lal   96   89         1  41.367910  29.254944   \n",
       "2  2 2016-10-28   H  tor  cle   91   94         0  40.681315  23.799275   \n",
       "3  2 2016-10-28   H  brk  ind  103   94         1  39.106817  31.106332   \n",
       "4  2 2016-10-28   H  det  orl  108   82         1  34.129964  29.680929   \n",
       "\n",
       "   ORt_RAvg_Opp  DRt_RAvg_Opp  \n",
       "0     44.705107     24.647354  \n",
       "1     41.785669     29.680100  \n",
       "2     39.275644     22.214510  \n",
       "3     40.076865     24.630514  \n",
       "4     36.200584     28.390347  "
      ]
     },
     "execution_count": 15,
     "metadata": {},
     "output_type": "execute_result"
    }
   ],
   "source": [
    "full_df.head()"
   ]
  },
  {
   "cell_type": "code",
   "execution_count": 16,
   "metadata": {},
   "outputs": [
    {
     "name": "stdout",
     "output_type": "stream",
     "text": [
      "Optimization terminated successfully.\n",
      "         Current function value: 0.644928\n",
      "         Iterations 5\n"
     ]
    },
    {
     "data": {
      "text/html": [
       "<table class=\"simpletable\">\n",
       "<caption>Logit Regression Results</caption>\n",
       "<tr>\n",
       "  <th>Dep. Variable:</th>     <td>W/L.bool</td>     <th>  No. Observations:  </th>  <td>  2043</td>  \n",
       "</tr>\n",
       "<tr>\n",
       "  <th>Model:</th>               <td>Logit</td>      <th>  Df Residuals:      </th>  <td>  2038</td>  \n",
       "</tr>\n",
       "<tr>\n",
       "  <th>Method:</th>               <td>MLE</td>       <th>  Df Model:          </th>  <td>     4</td>  \n",
       "</tr>\n",
       "<tr>\n",
       "  <th>Date:</th>          <td>Thu, 22 Feb 2018</td> <th>  Pseudo R-squ.:     </th>  <td>0.04969</td> \n",
       "</tr>\n",
       "<tr>\n",
       "  <th>Time:</th>              <td>22:15:16</td>     <th>  Log-Likelihood:    </th> <td> -1317.6</td> \n",
       "</tr>\n",
       "<tr>\n",
       "  <th>converged:</th>           <td>True</td>       <th>  LL-Null:           </th> <td> -1386.5</td> \n",
       "</tr>\n",
       "<tr>\n",
       "  <th> </th>                      <td> </td>        <th>  LLR p-value:       </th> <td>8.358e-29</td>\n",
       "</tr>\n",
       "</table>\n",
       "<table class=\"simpletable\">\n",
       "<tr>\n",
       "        <td></td>          <th>coef</th>     <th>std err</th>      <th>z</th>      <th>P>|z|</th>  <th>[0.025</th>    <th>0.975]</th>  \n",
       "</tr>\n",
       "<tr>\n",
       "  <th>intercept</th>    <td>   -3.6995</td> <td>    2.387</td> <td>   -1.550</td> <td> 0.121</td> <td>   -8.379</td> <td>    0.980</td>\n",
       "</tr>\n",
       "<tr>\n",
       "  <th>ORt_RAvg</th>     <td>    0.2683</td> <td>    0.034</td> <td>    7.900</td> <td> 0.000</td> <td>    0.202</td> <td>    0.335</td>\n",
       "</tr>\n",
       "<tr>\n",
       "  <th>DRt_RAvg</th>     <td>   -0.1101</td> <td>    0.042</td> <td>   -2.613</td> <td> 0.009</td> <td>   -0.193</td> <td>   -0.028</td>\n",
       "</tr>\n",
       "<tr>\n",
       "  <th>DRt_RAvg_Opp</th> <td>    0.1915</td> <td>    0.042</td> <td>    4.549</td> <td> 0.000</td> <td>    0.109</td> <td>    0.274</td>\n",
       "</tr>\n",
       "<tr>\n",
       "  <th>ORt_RAvg_Opp</th> <td>   -0.2186</td> <td>    0.034</td> <td>   -6.449</td> <td> 0.000</td> <td>   -0.285</td> <td>   -0.152</td>\n",
       "</tr>\n",
       "</table>"
      ],
      "text/plain": [
       "<class 'statsmodels.iolib.summary.Summary'>\n",
       "\"\"\"\n",
       "                           Logit Regression Results                           \n",
       "==============================================================================\n",
       "Dep. Variable:               W/L.bool   No. Observations:                 2043\n",
       "Model:                          Logit   Df Residuals:                     2038\n",
       "Method:                           MLE   Df Model:                            4\n",
       "Date:                Thu, 22 Feb 2018   Pseudo R-squ.:                 0.04969\n",
       "Time:                        22:15:16   Log-Likelihood:                -1317.6\n",
       "converged:                       True   LL-Null:                       -1386.5\n",
       "                                        LLR p-value:                 8.358e-29\n",
       "================================================================================\n",
       "                   coef    std err          z      P>|z|      [0.025      0.975]\n",
       "--------------------------------------------------------------------------------\n",
       "intercept       -3.6995      2.387     -1.550      0.121      -8.379       0.980\n",
       "ORt_RAvg         0.2683      0.034      7.900      0.000       0.202       0.335\n",
       "DRt_RAvg        -0.1101      0.042     -2.613      0.009      -0.193      -0.028\n",
       "DRt_RAvg_Opp     0.1915      0.042      4.549      0.000       0.109       0.274\n",
       "ORt_RAvg_Opp    -0.2186      0.034     -6.449      0.000      -0.285      -0.152\n",
       "================================================================================\n",
       "\"\"\""
      ]
     },
     "execution_count": 16,
     "metadata": {},
     "output_type": "execute_result"
    }
   ],
   "source": [
    "# Set up and run the model\n",
    "full_df['intercept'] = 1\n",
    "\n",
    "X = full_df[['intercept','ORt_RAvg','DRt_RAvg','DRt_RAvg_Opp','ORt_RAvg_Opp']]\n",
    "y = full_df['W/L.bool']\n",
    "\n",
    "log = sm.Logit(y, X)\n",
    "res = log.fit()\n",
    "res.summary()"
   ]
  },
  {
   "cell_type": "code",
   "execution_count": 17,
   "metadata": {},
   "outputs": [
    {
     "data": {
      "text/plain": [
       "array([[  298.,   550.],\n",
       "       [  191.,  1004.]])"
      ]
     },
     "execution_count": 17,
     "metadata": {},
     "output_type": "execute_result"
    }
   ],
   "source": [
    "cm = res.pred_table(.5)\n",
    "cm"
   ]
  },
  {
   "cell_type": "code",
   "execution_count": 18,
   "metadata": {},
   "outputs": [
    {
     "name": "stdout",
     "output_type": "stream",
     "text": [
      "The accuracy is: 63.73%.\n",
      "The precision is: 64.61%.\n",
      "The recall is: 84.02%.\n"
     ]
    }
   ],
   "source": [
    "print('The accuracy is: {:.2f}%.'.format(((cm[0][0] + cm[1][1])/2043) * 100.0))\n",
    "print('The precision is: {:.2f}%.'.format((cm[1][1]/(cm[0][1] + cm[1][1])) * 100.0))\n",
    "print('The recall is: {:.2f}%.'.format((cm[1][1]/(cm[1][0] + cm[1][1])) * 100.0))"
   ]
  },
  {
   "cell_type": "code",
   "execution_count": 19,
   "metadata": {
    "collapsed": true
   },
   "outputs": [],
   "source": [
    "kf = KFold(n_splits=10, shuffle=True)"
   ]
  },
  {
   "cell_type": "code",
   "execution_count": 20,
   "metadata": {},
   "outputs": [
    {
     "name": "stdout",
     "output_type": "stream",
     "text": [
      "Optimization terminated successfully.\n",
      "         Current function value: 0.646253\n",
      "         Iterations 5\n",
      "Optimization terminated successfully.\n",
      "         Current function value: 0.640399\n",
      "         Iterations 5\n",
      "Optimization terminated successfully.\n",
      "         Current function value: 0.642773\n",
      "         Iterations 5\n",
      "Optimization terminated successfully.\n",
      "         Current function value: 0.643502\n",
      "         Iterations 5\n",
      "Optimization terminated successfully.\n",
      "         Current function value: 0.643598\n",
      "         Iterations 5\n",
      "Optimization terminated successfully.\n",
      "         Current function value: 0.647323\n",
      "         Iterations 5\n",
      "Optimization terminated successfully.\n",
      "         Current function value: 0.644399\n",
      "         Iterations 5\n",
      "Optimization terminated successfully.\n",
      "         Current function value: 0.649206\n",
      "         Iterations 5\n",
      "Optimization terminated successfully.\n",
      "         Current function value: 0.641425\n",
      "         Iterations 5\n",
      "Optimization terminated successfully.\n",
      "         Current function value: 0.648893\n",
      "         Iterations 5\n"
     ]
    }
   ],
   "source": [
    "# Run a 10-fold cross-validation to confirm the accuracy\n",
    "accuracies = []\n",
    "for train_index, test_index in kf.split(X):\n",
    "    X_train, X_test = X.iloc[train_index], X.iloc[test_index]\n",
    "    y_train, y_test = y.iloc[train_index], y.iloc[test_index]\n",
    "    log_kf = sm.Logit(y_train, X_train)\n",
    "    res_kf = log_kf.fit()\n",
    "    ypreds = res_kf.predict(X_test)\n",
    "    predictions = []\n",
    "    for prob in ypreds:\n",
    "        if prob > 0.5:\n",
    "            predictions.append(1)\n",
    "        else:\n",
    "            predictions.append(0)\n",
    "    accuracy = (predictions == y_test).mean()\n",
    "    accuracies.append(accuracy)\n",
    "    "
   ]
  },
  {
   "cell_type": "code",
   "execution_count": 21,
   "metadata": {
    "scrolled": true
   },
   "outputs": [
    {
     "name": "stdout",
     "output_type": "stream",
     "text": [
      "Mean accuracy from the cross-validation was 63.39%.\n"
     ]
    }
   ],
   "source": [
    "accuracies = np.asarray(accuracies)\n",
    "print('Mean accuracy from the cross-validation was {:.2f}%.'.format(accuracies.mean() * 100.0))"
   ]
  },
  {
   "cell_type": "markdown",
   "metadata": {
    "collapsed": true
   },
   "source": [
    "# Visualizations"
   ]
  },
  {
   "cell_type": "code",
   "execution_count": 22,
   "metadata": {
    "collapsed": true
   },
   "outputs": [],
   "source": [
    "ort_avg16 = []\n",
    "drt_avg16 = []\n",
    "for year in ['16_17']:\n",
    "    for team in nba_teams:\n",
    "        ort_avg16.append(df_dict[team+year]['ORt'].mean())\n",
    "        drt_avg16.append(df_dict[team+year]['DRt'].mean())"
   ]
  },
  {
   "cell_type": "code",
   "execution_count": 23,
   "metadata": {},
   "outputs": [
    {
     "data": {
      "image/png": "[encoded data removed]",
      "text/plain": [
       "<matplotlib.figure.Figure at 0x203e5ec7550>"
      ]
     },
     "metadata": {},
     "output_type": "display_data"
    }
   ],
   "source": [
    "plt.hist(ort_avg16, bins=20, align='mid');\n",
    "plt.xlabel('Offensive Rating')\n",
    "plt.ylabel('Count')\n",
    "plt.title(\"Histogram of Teams' Offensive Rating, 2016-2017 Season\\n\");"
   ]
  },
  {
   "cell_type": "code",
   "execution_count": 24,
   "metadata": {},
   "outputs": [
    {
     "data": {
      "image/png": "[encoded data removed]",
      "text/plain": [
       "<matplotlib.figure.Figure at 0x203e617e5c0>"
      ]
     },
     "metadata": {},
     "output_type": "display_data"
    }
   ],
   "source": [
    "plt.hist(drt_avg16, bins=20, align='mid');\n",
    "plt.xlabel('Defensive Rating')\n",
    "plt.ylabel('Count')\n",
    "plt.title(\"Histogram of Teams' Defensive Rating, 2016-2017 Season\\n\");"
   ]
  },
  {
   "cell_type": "code",
   "execution_count": 25,
   "metadata": {
    "collapsed": true
   },
   "outputs": [],
   "source": [
    "ort_avg17 = []\n",
    "drt_avg17 = []\n",
    "for year in ['17_18']:\n",
    "    for team in nba_teams:\n",
    "        ort_avg17.append(df_dict[team+year]['ORt'].mean())\n",
    "        drt_avg17.append(df_dict[team+year]['DRt'].mean())"
   ]
  },
  {
   "cell_type": "code",
   "execution_count": 26,
   "metadata": {},
   "outputs": [
    {
     "data": {
      "image/png": "[encoded data removed]",
      "text/plain": [
       "<matplotlib.figure.Figure at 0x203e63b80b8>"
      ]
     },
     "metadata": {},
     "output_type": "display_data"
    }
   ],
   "source": [
    "plt.hist(ort_avg17, bins=20, align='mid');\n",
    "plt.xlabel('Offensive Rating')\n",
    "plt.ylabel('Count')\n",
    "plt.title(\"Histogram of Teams' Offensive Rating, 2017-2018 Season\\n\");"
   ]
  },
  {
   "cell_type": "code",
   "execution_count": 27,
   "metadata": {
    "scrolled": true
   },
   "outputs": [
    {
     "data": {
      "image/png": "[encoded data removed]",
      "text/plain": [
       "<matplotlib.figure.Figure at 0x203e63e56a0>"
      ]
     },
     "metadata": {},
     "output_type": "display_data"
    }
   ],
   "source": [
    "plt.hist(drt_avg17, bins=20, align='mid');\n",
    "plt.xlabel('Defensive Rating')\n",
    "plt.ylabel('Count')\n",
    "plt.title(\"Histogram of Teams' Defensive Rating, 2017-2018 Season\\n\");"
   ]
  },
  {
   "cell_type": "code",
   "execution_count": 28,
   "metadata": {},
   "outputs": [
    {
     "data": {
      "image/png": "[encoded data removed]",
      "text/plain": [
       "<matplotlib.figure.Figure at 0x203e64af0b8>"
      ]
     },
     "metadata": {},
     "output_type": "display_data"
    }
   ],
   "source": [
    "plt.scatter(ort_avg16, drt_avg16);"
   ]
  },
  {
   "cell_type": "code",
   "execution_count": 29,
   "metadata": {},
   "outputs": [
    {
     "data": {
      "image/png": "[encoded data removed]",
      "text/plain": [
       "<matplotlib.figure.Figure at 0x203e647ca20>"
      ]
     },
     "metadata": {},
     "output_type": "display_data"
    }
   ],
   "source": [
    "plt.scatter(ort_avg17, drt_avg17);"
   ]
  },
  {
   "cell_type": "code",
   "execution_count": 30,
   "metadata": {
    "collapsed": true
   },
   "outputs": [],
   "source": [
    "win_dict = {}\n",
    "for year in ['16_17']:\n",
    "    for team in nba_teams:\n",
    "        sub_dict = {}\n",
    "        sub_dict['wins'] = df_dict[team+year]['W/L.bool'].sum()\n",
    "        sub_dict['ORt'] = df_dict[team+year]['ORt'].mean()\n",
    "        sub_dict['DRt'] = df_dict[team+year]['DRt'].mean()\n",
    "        win_dict[team] = sub_dict"
   ]
  },
  {
   "cell_type": "code",
   "execution_count": 31,
   "metadata": {
    "collapsed": true
   },
   "outputs": [],
   "source": [
    "visual_df = pd.DataFrame.from_dict(win_dict, orient='index')"
   ]
  },
  {
   "cell_type": "code",
   "execution_count": 32,
   "metadata": {
    "collapsed": true
   },
   "outputs": [],
   "source": [
    "visual_df.index.name = 'team'"
   ]
  },
  {
   "cell_type": "code",
   "execution_count": 33,
   "metadata": {
    "collapsed": true
   },
   "outputs": [],
   "source": [
    "visual_df['team'] = visual_df.index"
   ]
  },
  {
   "cell_type": "code",
   "execution_count": 34,
   "metadata": {
    "collapsed": true
   },
   "outputs": [],
   "source": [
    "plot = ggplot(visual_df, aes(x='ORt', y='DRt', size='wins')) + \\\n",
    "    geom_point() + \\\n",
    "    geom_hline(y=[visual_df['DRt'].mean()], size = 1, color='black') + \\\n",
    "    geom_vline(x=[visual_df['ORt'].mean()], size = 1, color='black') + \\\n",
    "    labs(title='Season Long Offensive and Defensive Rating for the 2016-2017 NBA Season', y='Defensive Rating', x='Offensive Rating')"
   ]
  },
  {
   "cell_type": "code",
   "execution_count": 35,
   "metadata": {},
   "outputs": [
    {
     "data": {
      "image/png": "[encoded data removed]",
      "text/plain": [
       "<matplotlib.figure.Figure at 0x203e64be668>"
      ]
     },
     "metadata": {},
     "output_type": "display_data"
    },
    {
     "data": {
      "text/plain": [
       "<ggplot: (138485530344)>"
      ]
     },
     "execution_count": 35,
     "metadata": {},
     "output_type": "execute_result"
    }
   ],
   "source": [
    "plot"
   ]
  },
  {
   "cell_type": "code",
   "execution_count": 36,
   "metadata": {},
   "outputs": [
    {
     "data": {
      "image/png": "[encoded data removed]",
      "text/plain": [
       "<matplotlib.figure.Figure at 0x203e6612e48>"
      ]
     },
     "metadata": {},
     "output_type": "display_data"
    }
   ],
   "source": [
    "plot.save(filename='winvisualization.png',dpi=500)"
   ]
  },
  {
   "cell_type": "code",
   "execution_count": 37,
   "metadata": {
    "collapsed": true
   },
   "outputs": [],
   "source": [
    "win_dict2 = {}\n",
    "for year in ['17_18']:\n",
    "    for team in nba_teams:\n",
    "        sub_dict = {}\n",
    "        sub_dict['wins'] = df_dict[team+year]['W/L.bool'].sum()\n",
    "        sub_dict['ORt'] = df_dict[team+year]['ORt'].mean()\n",
    "        sub_dict['DRt'] = df_dict[team+year]['DRt'].mean()\n",
    "        win_dict2[team] = sub_dict\n",
    "        \n",
    "visual_df2 = pd.DataFrame.from_dict(win_dict2, orient='index')\n",
    "visual_df2.index.name = 'team'\n",
    "visual_df2['team'] = visual_df2.index"
   ]
  },
  {
   "cell_type": "code",
   "execution_count": 38,
   "metadata": {
    "collapsed": true
   },
   "outputs": [],
   "source": [
    "plot2 = ggplot(visual_df2, aes(x='ORt', y='DRt', size='wins')) + \\\n",
    "    geom_point() + \\\n",
    "    geom_hline(y=[visual_df2['DRt'].mean()], size = 1, color='black') + \\\n",
    "    geom_vline(x=[visual_df2['ORt'].mean()], size = 1, color='black') + \\\n",
    "    labs(title='Season Long Offensive and Defensive Rating for the 2017-2018 NBA Season', y='Defensive Rating', x='Offensive Rating')"
   ]
  },
  {
   "cell_type": "code",
   "execution_count": 39,
   "metadata": {},
   "outputs": [
    {
     "data": {
      "image/png": "[encoded data removed]",
      "text/plain": [
       "<matplotlib.figure.Figure at 0x203e6d6c2b0>"
      ]
     },
     "metadata": {},
     "output_type": "display_data"
    },
    {
     "data": {
      "text/plain": [
       "<ggplot: (138485939383)>"
      ]
     },
     "execution_count": 39,
     "metadata": {},
     "output_type": "execute_result"
    }
   ],
   "source": [
    "plot2"
   ]
  },
  {
   "cell_type": "code",
   "execution_count": null,
   "metadata": {
    "collapsed": true
   },
   "outputs": [],
   "source": []
  }
 ],
 "metadata": {
  "kernelspec": {
   "display_name": "Python [conda env:py3]",
   "language": "python",
   "name": "conda-env-py3-py"
  },
  "language_info": {
   "codemirror_mode": {
    "name": "ipython",
    "version": 3
   },
   "file_extension": ".py",
   "mimetype": "text/x-python",
   "name": "python",
   "nbconvert_exporter": "python",
   "pygments_lexer": "ipython3",
   "version": "3.6.2"
  }
 },
 "nbformat": 4,
 "nbformat_minor": 2
}
